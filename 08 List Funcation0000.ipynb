{
 "cells": [
  {
   "cell_type": "code",
   "execution_count": 1,
   "metadata": {},
   "outputs": [
    {
     "name": "stdout",
     "output_type": "stream",
     "text": [
      "[1, 2, 3, 4, 5, 6]\n",
      "[1, 2, 300, 4, 5, 6]\n",
      "[1, 2, 300, 4, 5, 6]\n",
      "9\n",
      "109\n",
      "9\n"
     ]
    }
   ],
   "source": [
    "\n",
    "# 传值和传地址的区别# 传值和传地 \n",
    "# 对于简单的数值，采用传值操作，即在函数内对参数的操作不影响外面的变量\n",
    "# 对于复杂变量，采用传地址操作，此时函数内的参数和外部变量是同一份内容，\n",
    "# 任何地方对此内容的更改都影响另外的变量或参数的使用\n",
    "\n",
    "def a(n):\n",
    "    n[2] = 300\n",
    "    print(n)\n",
    "    return None\n",
    "\n",
    "def b(n):\n",
    "    n += 100\n",
    "    print(n)\n",
    "    return None\n",
    "\n",
    "\n",
    "an = [1,2,3,4,5,6]\n",
    "bn = 9\n",
    "\n",
    "print(an)\n",
    "a(an)\n",
    "print(an)\n",
    "\n",
    "print(bn)\n",
    "b(bn)\n",
    "print(bn)"
   ]
  },
  {
   "cell_type": "markdown",
   "metadata": {},
   "source": [
    "# 关于列表的函数"
   ]
  },
  {
   "cell_type": "code",
   "execution_count": 7,
   "metadata": {},
   "outputs": [
    {
     "name": "stdout",
     "output_type": "stream",
     "text": [
      "['a', 'i love wangxiaojing', 45, 545, (5+4j)]\n"
     ]
    }
   ],
   "source": [
    "l = ['a', \"i love wangxiaojing\", 45, 545, (5+4j)]\n",
    "#l     # 单写一个l也能打印l列表\n",
    "print(l)"
   ]
  },
  {
   "cell_type": "code",
   "execution_count": 11,
   "metadata": {},
   "outputs": [
    {
     "name": "stdout",
     "output_type": "stream",
     "text": [
      "[1, 2, 3, 4]\n",
      "[1, 2, 3, 4, 666]\n"
     ]
    }
   ],
   "source": [
    "# append 在列表末尾插入一个内容\n",
    "a = [i for i in range(1,5)]  # 列表必须用中括号\n",
    "print(a)\n",
    "a.append(666)\n",
    "print(a)"
   ]
  },
  {
   "cell_type": "code",
   "execution_count": 19,
   "metadata": {},
   "outputs": [
    {
     "name": "stdout",
     "output_type": "stream",
     "text": [
      "[3, 4, 5, 6, 7, 8, 9, 10, 11]\n",
      "['000', 3, 4, 5, 6, 7, 8, 9, 10, 11]\n"
     ]
    }
   ],
   "source": [
    "# insert： 插入确定的位置\n",
    "# insert(index,data), 数据插入位置是在index前面\n",
    "a = [k for k in range(3,12)]\n",
    "print(a)\n",
    "a.insert(0,\"000\")\n",
    "print(a)"
   ]
  },
  {
   "cell_type": "code",
   "execution_count": 41,
   "metadata": {},
   "outputs": [
    {
     "name": "stdout",
     "output_type": "stream",
     "text": [
      "[2, 4, 6, 8, 10, 12, 14, 16, 18, 20, 22, 24, 26, 28, 30, 32, 34, 36, 38, 40, 42, 44, 46, 48, 50, 52, 54, 56, 58, 60, 62, 64, 66, 68, 70, 72, 74, 76, 78, 80, 82, 84, 86, 88, 90, 92, 94, 96, 98]\n",
      "[2, 4, 6, 10, 12, 14, 16, 18, 20, 22, 24, 26, 28, 30, 32, 34, 36, 38, 40, 42, 44, 46, 48, 50, 52, 54, 56, 58, 60, 62, 64, 66, 68, 70, 72, 74, 76, 78, 80, 82, 84, 86, 88, 90, 92, 94, 96, 98]\n",
      "48\n",
      "96\n",
      "[2, 4, 6, 10, 12, 14, 16, 18, 20, 22, 24, 26, 28, 30, 32, 34, 36, 38, 40, 42, 44, 46, 48, 50, 52, 54, 56, 58, 60, 62, 64, 66, 68, 70, 72, 74, 76, 78, 80, 82, 84, 86, 88, 90, 92, 94, 98]\n",
      "2\n",
      "[4, 6, 10, 12, 14, 16, 18, 20, 22, 24, 26, 28, 30, 32, 34, 36, 38, 40, 42, 44, 46, 48, 50, 52, 54, 56, 58, 60, 62, 64, 66, 68, 70, 72, 74, 76, 78, 80, 82, 84, 86, 88, 90, 92, 94, 98]\n",
      "[6, 12, 16, 20, 24, 28, 32, 36, 40, 44, 48, 52, 56, 60, 64, 68, 72, 76, 80, 84, 88, 92, 98]\n"
     ]
    }
   ],
   "source": [
    "# pop, 从列表中取出一个元素，同时列表中减少一个元素\n",
    "# del,  目前我只会删除一个元素  # 可以 del list[ : :2]  \n",
    "b = [i for i in range(1,100) if i % 2 == 0]\n",
    "print(b)\n",
    "del b[3]\n",
    "print(b)\n",
    "print(len(b))\n",
    "print(b.pop(46))\n",
    "print(b)\n",
    "print(b.pop(0))\n",
    "print(b)\n",
    "del b[: :2]\n",
    "print(b)"
   ]
  },
  {
   "cell_type": "code",
   "execution_count": 85,
   "metadata": {},
   "outputs": [
    {
     "name": "stdout",
     "output_type": "stream",
     "text": [
      "[1, 2, 3, 4, 5, 6, 7, 8]\n",
      "83249352\n",
      "[1, 2, 3, 4, 5, 6, 7, 8, 10]\n",
      "83249352\n",
      "[1, 2, 3, 4, 5, 6, 7, 8]\n",
      "ture\n"
     ]
    }
   ],
   "source": [
    "# remove: 在列表中删除指定的值的元素\n",
    "# 如果被删除的值没在list中，则报错\n",
    "# 即，删除list 指定值的操作应该使用try....excepty语句，或先行进行判断\n",
    "# if x in list:\n",
    "#    list.remove(x)\n",
    "c = [i for i in range(1,9)]\n",
    "print(c)\n",
    "print(id(c))\n",
    "c.insert(9,10)\n",
    "print(c)\n",
    "print(id(c))\n",
    "c.remove(10)\n",
    "print(c)\n",
    "\n",
    "if d in c:\n",
    "    print(\"ture\")\n",
    "else:\n",
    "    print(\"不在\")\n",
    "    \n",
    "    "
   ]
  },
  {
   "cell_type": "code",
   "execution_count": 88,
   "metadata": {},
   "outputs": [
    {
     "name": "stdout",
     "output_type": "stream",
     "text": [
      "请输入一个数字:9\n",
      "No\n"
     ]
    }
   ],
   "source": [
    "a = [1,2,3,4,5]\n",
    "#b = 1\n",
    "c = int(input(\"请输入一个数字:\"))\n",
    "\n",
    "if c in a:\n",
    "\n",
    "    print(\"Yes\")\n",
    "\n",
    "    \n",
    "else:\n",
    "    print(\"No\")\n"
   ]
  },
  {
   "cell_type": "code",
   "execution_count": 108,
   "metadata": {},
   "outputs": [
    {
     "name": "stdout",
     "output_type": "stream",
     "text": [
      "[1, 2, 3, 4]\n",
      "83190408\n",
      "[]\n",
      "83190408\n"
     ]
    }
   ],
   "source": [
    "# clear:清空\n",
    "a = [i for i in range(1, 5)]\n",
    "print(a)\n",
    "print(id(a))\n",
    "a.clear()\n",
    "print(a)\n",
    "print(id(a))\n",
    "# 如果不需要列表地址保持不变，则清空列表可以使用以下方式\n",
    "# a = list()\n",
    "# a = []"
   ]
  },
  {
   "cell_type": "code",
   "execution_count": 112,
   "metadata": {},
   "outputs": [
    {
     "name": "stdout",
     "output_type": "stream",
     "text": [
      "[1, 2, 3, 4, 5]\n",
      "83307144\n",
      "[5, 4, 3, 2, 1]\n",
      "83307144\n"
     ]
    }
   ],
   "source": [
    "# reverse:翻转列表内容，原地翻转\n",
    "a = [1,2,3,4,5]\n",
    "print(a)\n",
    "print(id(a))\n",
    "a.reverse()\n",
    "print(a)\n",
    "print(id(a))"
   ]
  },
  {
   "cell_type": "code",
   "execution_count": 117,
   "metadata": {},
   "outputs": [
    {
     "name": "stdout",
     "output_type": "stream",
     "text": [
      "[1, 2, 3, 4, 5, 6]\n",
      "83328904\n",
      "******************************\n",
      "[8, 9, 10, 11, 12, 13, 14, 15]\n",
      "83249736\n",
      "******************************\n",
      "[1, 2, 3, 4, 5, 6, 8, 9, 10, 11, 12, 13, 14, 15]\n",
      "[8, 9, 10, 11, 12, 13, 14, 15]\n",
      "83328904\n"
     ]
    }
   ],
   "source": [
    "# extend:扩展列表，两个列表，把一个直接拼接到后另一个上\n",
    "a=[i for i in range(1,7)]\n",
    "b= [k for k in range(8,16)]\n",
    "print(a)\n",
    "print(id(a))\n",
    "print(\"*\" * 30)\n",
    "\n",
    "print(b)\n",
    "print(id(b))\n",
    "print(\"*\" * 30)\n",
    "\n",
    "a.extend(b)\n",
    "print(a)\n",
    "print(b)\n",
    "print(id(a))"
   ]
  },
  {
   "cell_type": "code",
   "execution_count": 135,
   "metadata": {
    "scrolled": true
   },
   "outputs": [
    {
     "name": "stdout",
     "output_type": "stream",
     "text": [
      "[1, 2, 3, 4, 5, 6, 7, 8, 9]\n",
      "[1, 2, 3, 4, 8, 5, 6, 7, 8, 9, 8]\n",
      "11\n",
      "list.acount(8): 3\n"
     ]
    }
   ],
   "source": [
    "# count() 方法用于统计字符串里某个字符出现的次数\n",
    "# 使用count（）时注意括号内是数值还是字符串，是字符串，要加引号\n",
    "a = [k for k in range(1,10)]\n",
    "print(a)\n",
    "a.append(8)\n",
    "a.insert(4,8)\n",
    "print(a)\n",
    "print(len(a))\n",
    "\n",
    "print(\"list.acount(8):\",a.count(8))"
   ]
  },
  {
   "cell_type": "code",
   "execution_count": 143,
   "metadata": {},
   "outputs": [
    {
     "name": "stdout",
     "output_type": "stream",
     "text": [
      "[1, 2, 3, 4, 5, 6, 7, 888]\n",
      "[1, 2, 333, 4, 5, 6, 7, 888]\n",
      "85787976\n",
      "[1, 2, 333, 4, 5, 6, 7, 888]\n",
      "85787976\n",
      "******************************\n",
      "[1, 2, 333, 4, 5, 6, 7, 888]\n",
      "85787976\n",
      "[1, 2, 333, 4, 5, 6, 7, 888]\n",
      "85787976\n",
      "******************************\n",
      "[1, 2, 333, 4, 555, 6, 7, 888]\n",
      "[1, 2, 333, 4, 555, 6, 7, 888]\n"
     ]
    }
   ],
   "source": [
    "# copy: 拷贝，此函数是浅拷贝。\n",
    "# 列表类型变量赋值示例\n",
    "a = [1,2,3,4,5,6,7,888]\n",
    "print(a)\n",
    "# list类型，简单赋值操作，是地址\n",
    "b = a\n",
    "b[2] =333\n",
    "print(a)\n",
    "print(id(a))\n",
    "print(b)\n",
    "print(id(b))\n",
    "print(\"*\" * 30)\n",
    "\n",
    "# 为了解决以上问题， list赋值需要采用copy函数\n",
    "\n",
    "a.copy()\n",
    "print(a)\n",
    "print(id(a))\n",
    "print(b)\n",
    "print(id(b))\n",
    "print(\"*\" * 30)\n",
    "\n",
    "b[4] = 555\n",
    "print(a)\n",
    "print(b)"
   ]
  },
  {
   "cell_type": "code",
   "execution_count": 162,
   "metadata": {},
   "outputs": [
    {
     "name": "stdout",
     "output_type": "stream",
     "text": [
      "85846472\n",
      "85846728\n",
      " \n",
      "85846088\n",
      "85846088\n",
      "888888888888888888888888888888888888888888888888888888888888\n",
      "[1, 2, 3, [10, 20, 30]]\n",
      "[1, 2, 3, [10, 20, 30]]\n"
     ]
    }
   ],
   "source": [
    "# 深拷贝跟浅拷贝的区别\n",
    "# 出现下列问题的原因是，copy 函数是个浅拷贝函数，即只拷贝一层内容\n",
    "# 深拷贝需要使用特定工具\n",
    "a = [1,2,3,[10, 20,30]]\n",
    "b = a.copy()\n",
    "print(id(a)); print(id(b))\n",
    "print(\" \")\n",
    "\n",
    "print(id(a[3]));print(id(b[3]))\n",
    "print(\"8\"*60)\n",
    "\n",
    "print(a)\n",
    "print(b)"
   ]
  },
  {
   "cell_type": "markdown",
   "metadata": {},
   "source": [
    "#  元组-tuple\n",
    "-  元组可以看成是一个不可更改的list \n",
    "## 元组创建"
   ]
  },
  {
   "cell_type": "code",
   "execution_count": 174,
   "metadata": {},
   "outputs": [
    {
     "name": "stdout",
     "output_type": "stream",
     "text": [
      "<class 'tuple'>\n",
      "<class 'tuple'>\n",
      "(1,)\n",
      "<class 'tuple'>\n",
      "(1,)\n",
      "<class 'tuple'>\n",
      "(1, 2, 3, 4, 5)\n",
      "**************************************************\n",
      "<class 'tuple'>\n",
      "(1, 2, 3, 4, 5)\n",
      "type(t): <class 'tuple'>\n",
      "type(l): <class 'list'>\n",
      "(1, 2, 3, 4, 5)\n"
     ]
    }
   ],
   "source": [
    "# 创建空元组\n",
    "t = ()\n",
    "print(type(t))\n",
    "\n",
    "# 创建一个只有一个值的元组\n",
    "t = (1,)\n",
    "print(type(t))\n",
    "print(t)\n",
    "\n",
    "t = 1,  # 也可能写成 t = (1,)\n",
    "print(type(t))\n",
    "print(t)\n",
    "\n",
    "# 创建多个元组\n",
    "t = (1,2,3,4,5)\n",
    "print(type(t))\n",
    "print(t)\n",
    "\n",
    "print(\"*\" * 50)\n",
    "\n",
    "t = 1, 2, 3, 4, 5\n",
    "print(type(t))\n",
    "print(t)\n",
    "\n",
    "# 使用其他结构创建元组\n",
    "l = [k for k in range(1,6)]\n",
    "t = tuple(l)\n",
    "print(\"type(t):\",type(t))\n",
    "print(\"type(l):\",type(l))\n",
    "print(t)"
   ]
  },
  {
   "cell_type": "code",
   "execution_count": 176,
   "metadata": {},
   "outputs": [
    {
     "name": "stdout",
     "output_type": "stream",
     "text": [
      "type(t): <class 'tuple'>\n",
      "(1, 'Hello', '李小强', 7)\n"
     ]
    }
   ],
   "source": [
    "a = [1,\"Hello\",\"李小强\",7]\n",
    "t = tuple(a)\n",
    "print(\"type(t):\",type(t))\n",
    "print(t)"
   ]
  },
  {
   "cell_type": "markdown",
   "metadata": {},
   "source": [
    "#  元组的特性\n",
    "- 是序列表，有序\n",
    "- 元组数据值可以访问，不能修改，不能修改，不能修改\n",
    "- 元组数据可以是任意类型\n",
    "- 总之，list所有特性，除了可修改外，元组都具有\n",
    "- 也就意味着，list具有的一些操作，比如索引，分片，序列相加，相乘，成员资格操作等，一模一样"
   ]
  },
  {
   "cell_type": "code",
   "execution_count": 177,
   "metadata": {},
   "outputs": [
    {
     "name": "stdout",
     "output_type": "stream",
     "text": [
      "5\n"
     ]
    }
   ],
   "source": [
    "# 索引操作\n",
    "t = 1,2,3,4,5\n",
    "print(t[4])"
   ]
  },
  {
   "cell_type": "code",
   "execution_count": 178,
   "metadata": {
    "scrolled": true
   },
   "outputs": [
    {
     "ename": "IndexError",
     "evalue": "tuple index out of range",
     "output_type": "error",
     "traceback": [
      "\u001b[1;31m---------------------------------------------------------------------------\u001b[0m",
      "\u001b[1;31mIndexError\u001b[0m                                Traceback (most recent call last)",
      "\u001b[1;32m<ipython-input-178-a7f4fce0da2c>\u001b[0m in \u001b[0;36m<module>\u001b[1;34m()\u001b[0m\n\u001b[0;32m      1\u001b[0m \u001b[1;31m# 超标错误\u001b[0m\u001b[1;33m\u001b[0m\u001b[1;33m\u001b[0m\u001b[0m\n\u001b[1;32m----> 2\u001b[1;33m \u001b[0mprint\u001b[0m\u001b[1;33m(\u001b[0m\u001b[0mt\u001b[0m\u001b[1;33m[\u001b[0m\u001b[1;36m10\u001b[0m\u001b[1;33m]\u001b[0m\u001b[1;33m)\u001b[0m\u001b[1;33m\u001b[0m\u001b[0m\n\u001b[0m",
      "\u001b[1;31mIndexError\u001b[0m: tuple index out of range"
     ]
    }
   ],
   "source": [
    "# 超标错误\n",
    "print(t[10])"
   ]
  },
  {
   "cell_type": "markdown",
   "metadata": {},
   "source": [
    "# 切片\n",
    "- 语法表达式为：[start_index : end_index : step]，\n",
    "- 其中：\n",
    "\n",
    "    - start_index表示起始索引\n",
    "    - end_index表示结束索引\n",
    "    - step表示步长，步长不能为0，且默认值为1\n",
    "- 切片操作是指按照步长，截取从起始索引到结束索引，但不包含结束索引（也就是结束索引减1）的所有元素。\n",
    "\n",
    "- python3支持切片操作的数据类型有list、tuple、string、unicode、range\n",
    "- 切片返回的结果类型与原对象类型一致\n",
    "- <<<<<切片不会改变原对象，而是重新生成了一个新的对象>>>>"
   ]
  },
  {
   "cell_type": "code",
   "execution_count": 181,
   "metadata": {},
   "outputs": [
    {
     "name": "stdout",
     "output_type": "stream",
     "text": [
      "<class 'tuple'>\n",
      "78730504\n",
      "82081400\n",
      "(2, 4)\n",
      "(3, 4, 5)\n"
     ]
    }
   ],
   "source": [
    "t=1,2,3,4,5\n",
    "t1=t[1::2]\n",
    "print(type(t1))\n",
    "print(id(t1))\n",
    "print(id(t))\n",
    "print(t1)\n",
    "\n",
    "# 切片可以超标\n",
    "t2 =t[2:100]\n",
    "print(t2)"
   ]
  },
  {
   "cell_type": "code",
   "execution_count": 186,
   "metadata": {},
   "outputs": [
    {
     "name": "stdout",
     "output_type": "stream",
     "text": [
      "82980368\n",
      "82975984\n",
      "(1, 2, 3, 5, 4, 3)\n",
      "78875048\n",
      " \n"
     ]
    },
    {
     "ename": "TypeError",
     "evalue": "'tuple' object does not support item assignment",
     "output_type": "error",
     "traceback": [
      "\u001b[1;31m---------------------------------------------------------------------------\u001b[0m",
      "\u001b[1;31mTypeError\u001b[0m                                 Traceback (most recent call last)",
      "\u001b[1;32m<ipython-input-186-6f45dd00231e>\u001b[0m in \u001b[0;36m<module>\u001b[1;34m()\u001b[0m\n\u001b[0;32m      8\u001b[0m \u001b[0mprint\u001b[0m\u001b[1;33m(\u001b[0m\u001b[0mid\u001b[0m\u001b[1;33m(\u001b[0m\u001b[0md\u001b[0m\u001b[1;33m)\u001b[0m\u001b[1;33m)\u001b[0m\u001b[1;33m\u001b[0m\u001b[0m\n\u001b[0;32m      9\u001b[0m \u001b[0mprint\u001b[0m\u001b[1;33m(\u001b[0m\u001b[1;34m\" \"\u001b[0m\u001b[1;33m)\u001b[0m\u001b[1;33m\u001b[0m\u001b[0m\n\u001b[1;32m---> 10\u001b[1;33m \u001b[0md\u001b[0m\u001b[1;33m[\u001b[0m\u001b[1;36m2\u001b[0m\u001b[1;33m]\u001b[0m\u001b[1;33m=\u001b[0m\u001b[1;36m333\u001b[0m       \u001b[1;31m#   元组的内容不可以修改\u001b[0m\u001b[1;33m\u001b[0m\u001b[0m\n\u001b[0m\u001b[0;32m     11\u001b[0m \u001b[0mprint\u001b[0m\u001b[1;33m(\u001b[0m\u001b[0md\u001b[0m\u001b[1;33m)\u001b[0m\u001b[1;33m\u001b[0m\u001b[0m\n",
      "\u001b[1;31mTypeError\u001b[0m: 'tuple' object does not support item assignment"
     ]
    }
   ],
   "source": [
    "# 序列相加\n",
    "t = 1,2,3\n",
    "print(id(t))\n",
    "e = 5,4,3\n",
    "print(id(e))\n",
    "d = t + e\n",
    "print(d)\n",
    "print(id(d))\n",
    "print(\" \")\n",
    "d[2]=333       #   元组的内容不可以修改\n",
    "print(d)"
   ]
  },
  {
   "cell_type": "code",
   "execution_count": 193,
   "metadata": {},
   "outputs": [
    {
     "name": "stdout",
     "output_type": "stream",
     "text": [
      "(1, 2, 3)\n",
      "(1, 2, 3, 1, 2, 3, 1, 2, 3)\n"
     ]
    }
   ],
   "source": [
    "# 元组相乘\n",
    "t = 1,2,3\n",
    "print(t)\n",
    "t *= 3\n",
    "# print(t * 2)\n",
    "print(t)"
   ]
  },
  {
   "cell_type": "code",
   "execution_count": 197,
   "metadata": {},
   "outputs": [
    {
     "name": "stdout",
     "output_type": "stream",
     "text": [
      "False\n",
      "False True\n"
     ]
    }
   ],
   "source": [
    "#  成员检测\n",
    "t = 1, 2, 3\n",
    "print(4 in t)\n",
    "print(2 not in t, 5 not in t)\n"
   ]
  },
  {
   "cell_type": "code",
   "execution_count": 200,
   "metadata": {},
   "outputs": [
    {
     "name": "stdout",
     "output_type": "stream",
     "text": [
      "<class 'tuple'>\n",
      "d--3--2--sfsdsdf--刘德华--白素贞--"
     ]
    }
   ],
   "source": [
    "# 元组遍历，一般采用for\n",
    "# 1, 单层元组遍历\n",
    "t = 'd', 3, 2, 'sfsdsdf', \"刘德华\", \"白素贞\"\n",
    "print(type(t))\n",
    "for i in t:\n",
    "    print(i,end=\"--\")"
   ]
  },
  {
   "cell_type": "code",
   "execution_count": 214,
   "metadata": {},
   "outputs": [
    {
     "name": "stdout",
     "output_type": "stream",
     "text": [
      "[1, 2, 3, 4]\n",
      "('a', 'b', 'c', 'd')\n",
      "(4, 3, 12, 5, 6, 9)\n",
      "k\n",
      "3\n",
      "44\n",
      "6\n"
     ]
    }
   ],
   "source": [
    "# 2. 双层元组的遍历\n",
    "t = ([i for i in range(1,5)],('a', 'b', 'c','d'),(4,3,12,5,6,9),\"k\",3,44)\n",
    "#  对以上元组的遍历，如下：\n",
    "for tt in t:\n",
    "    print(tt)\n",
    "print(len(t))"
   ]
  },
  {
   "cell_type": "code",
   "execution_count": 212,
   "metadata": {},
   "outputs": [
    {
     "name": "stdout",
     "output_type": "stream",
     "text": [
      "[1, 2, 3, 4]\n"
     ]
    }
   ],
   "source": [
    "k=[i for i in range(1,5)]\n",
    "print(k)"
   ]
  },
  {
   "cell_type": "code",
   "execution_count": null,
   "metadata": {},
   "outputs": [],
   "source": []
  }
 ],
 "metadata": {
  "kernelspec": {
   "display_name": "Python 3",
   "language": "python",
   "name": "python3"
  },
  "language_info": {
   "codemirror_mode": {
    "name": "ipython",
    "version": 3
   },
   "file_extension": ".py",
   "mimetype": "text/x-python",
   "name": "python",
   "nbconvert_exporter": "python",
   "pygments_lexer": "ipython3",
   "version": "3.6.5"
  }
 },
 "nbformat": 4,
 "nbformat_minor": 2
}
