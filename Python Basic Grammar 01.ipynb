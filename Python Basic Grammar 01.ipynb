{
 "cells": [
  {
   "cell_type": "markdown",
   "metadata": {},
   "source": [
    "# - Python Basic Grammar 01\n"
   ]
  },
  {
   "cell_type": "markdown",
   "metadata": {},
   "source": [
    "##1.#+空格；填加注释\n",
    "##2.'''三引号填加块注释'''"
   ]
  },
  {
   "cell_type": "code",
   "execution_count": 11,
   "metadata": {},
   "outputs": [
    {
     "name": "stdout",
     "output_type": "stream",
     "text": [
      "123\n"
     ]
    }
   ],
   "source": [
    "# 块注释举例\n",
    "s =  123\n",
    "'''\n",
    "kjsdfklsdjsdliosdfjiosdfjosi\n",
    "sdfasfasfweafawefa\n",
    "asdfeaf\n",
    "\n",
    "awefasdfwea\n",
    "\n",
    "'''\n",
    "print(s)"
   ]
  },
  {
   "cell_type": "markdown",
   "metadata": {},
   "source": [
    "##3.变量\n",
    "- 变量就是可以重复使用的一个量，或者叫一个代号\n",
    "- 变量的命名包含大小写字母，下划线，数字，但是数字不能开头\n",
    "    - 驼峰命名法\n",
    "        - 大驼峰，每个单词第一个字母大写\n",
    "            - 在Python中给类命名使用此方法\n",
    "            - MyFirstLove,IntOne\n",
    "        - 小驼峰，类似大驼峰，但第一个字母小写\n",
    "            - 在Python中一般给普通变量或者函数命名\n",
    "            - myFirstLove,inOne\n",
    "        - posix写法\n",
    "            - 多个单词用下划线链接\n",
    "            - 单词全部小写\n",
    "            -my_first_love,int_one\n",
    "    - 保留字&关键字\n",
    "        - 变量命名不能跟保留字和关键字重复\n",
    "        - 例如：class,def,break,for\n",
    "        "
   ]
  },
  {
   "cell_type": "code",
   "execution_count": 2,
   "metadata": {},
   "outputs": [
    {
     "data": {
      "text/plain": [
       "['False',\n",
       " 'None',\n",
       " 'True',\n",
       " 'and',\n",
       " 'as',\n",
       " 'assert',\n",
       " 'break',\n",
       " 'class',\n",
       " 'continue',\n",
       " 'def',\n",
       " 'del',\n",
       " 'elif',\n",
       " 'else',\n",
       " 'except',\n",
       " 'finally',\n",
       " 'for',\n",
       " 'from',\n",
       " 'global',\n",
       " 'if',\n",
       " 'import',\n",
       " 'in',\n",
       " 'is',\n",
       " 'lambda',\n",
       " 'nonlocal',\n",
       " 'not',\n",
       " 'or',\n",
       " 'pass',\n",
       " 'raise',\n",
       " 'return',\n",
       " 'try',\n",
       " 'while',\n",
       " 'with',\n",
       " 'yield']"
      ]
     },
     "execution_count": 2,
     "metadata": {},
     "output_type": "execute_result"
    }
   ],
   "source": [
    "# 查看关键字的方法 \n",
    "import keyword  # 引入关键字模块,全部关键字\n",
    "keyword.kwlist"
   ]
  },
  {
   "cell_type": "markdown",
   "metadata": {},
   "source": [
    "- 变量的声明\n",
    "    - var_name = var_value\n",
    "    - var1 = var2 = var3 = var_value\n",
    "    - var1,var2, var3 = v1,v2,v3"
   ]
  },
  {
   "cell_type": "markdown",
   "metadata": {},
   "source": [
    "- 变量类型\n",
    "    - 严格意义上讲，python只有一个类型\n",
    "    - 六种类型\n",
    "        - 数字类型Number\n",
    "        - 字符串类型str\n",
    "        - 列表list\n",
    "        - 元组tuple\n",
    "        - 字典Dictionary\n",
    "        - 集合set\n",
    "        \n",
    "##4. - Number 数字类型\n",
    "        - 整数：二进制，八进制，十六进制，十进制（二进制逢2进1）\n",
    "        - 浮点数\n",
    "            - 小数\n",
    "        - 科学计数法\n",
    "                - 写法是用e/E后面跟整数表示10的指数\n",
    "                - 176.23 == 1.7634e2\n",
    "                - 0.876 == 8.76e-1\n",
    "        - 复数complex\n",
    "            - 跟数学里的定义一样\n",
    "            - 一个由实部和虚部构成的数字\n",
    "            - 虚部用j/J表示\n",
    "                - 5+3j\n",
    "                - 3j\n",
    "                - (3j)\n",
    "        - 布尔值\n",
    "            - 表示真假的值\n",
    "            - 只有两个值， True/False\n",
    "            - 布尔值可以跟数字直接操作\n",
    "            "
   ]
  },
  {
   "cell_type": "code",
   "execution_count": 22,
   "metadata": {},
   "outputs": [
    {
     "name": "stdout",
     "output_type": "stream",
     "text": [
      "19\n",
      "14\n"
     ]
    }
   ],
   "source": [
    "# 布尔值测试,Fales这样试了 不行\n",
    "age = 18 + True\n",
    "age1 = 13 + True\n",
    "\n",
    "print(age)\n",
    "print(age1)"
   ]
  },
  {
   "cell_type": "markdown",
   "metadata": {},
   "source": [
    "##5.字符串\n",
    "- 用来表示一串文字信息\n",
    "- 如何表示\n",
    "    - 单引号\n",
    "    - 双引号\n",
    "    - 三引号（三个单引号或三个双引号）\n",
    "- 单双引号可以交错使用\n",
    "\n",
    "    "
   ]
  },
  {
   "cell_type": "code",
   "execution_count": null,
   "metadata": {},
   "outputs": [],
   "source": []
  },
  {
   "cell_type": "code",
   "execution_count": null,
   "metadata": {},
   "outputs": [],
   "source": []
  },
  {
   "cell_type": "code",
   "execution_count": null,
   "metadata": {},
   "outputs": [],
   "source": []
  },
  {
   "cell_type": "code",
   "execution_count": null,
   "metadata": {},
   "outputs": [],
   "source": []
  },
  {
   "cell_type": "code",
   "execution_count": null,
   "metadata": {},
   "outputs": [],
   "source": []
  },
  {
   "cell_type": "code",
   "execution_count": null,
   "metadata": {},
   "outputs": [],
   "source": []
  },
  {
   "cell_type": "code",
   "execution_count": null,
   "metadata": {},
   "outputs": [],
   "source": []
  },
  {
   "cell_type": "code",
   "execution_count": null,
   "metadata": {},
   "outputs": [],
   "source": []
  },
  {
   "cell_type": "code",
   "execution_count": null,
   "metadata": {},
   "outputs": [],
   "source": []
  }
 ],
 "metadata": {
  "kernelspec": {
   "display_name": "Python 3",
   "language": "python",
   "name": "python3"
  },
  "language_info": {
   "codemirror_mode": {
    "name": "ipython",
    "version": 3
   },
   "file_extension": ".py",
   "mimetype": "text/x-python",
   "name": "python",
   "nbconvert_exporter": "python",
   "pygments_lexer": "ipython3",
   "version": "3.6.5"
  }
 },
 "nbformat": 4,
 "nbformat_minor": 2
}
