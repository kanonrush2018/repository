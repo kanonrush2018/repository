{
 "cells": [
  {
   "cell_type": "markdown",
   "metadata": {},
   "source": [
    "# Python Basic Grammar 02"
   ]
  },
  {
   "cell_type": "markdown",
   "metadata": {},
   "source": [
    "##1 转义字符\n"
   ]
  },
  {
   "cell_type": "code",
   "execution_count": 15,
   "metadata": {},
   "outputs": [
    {
     "name": "stdout",
     "output_type": "stream",
     "text": [
      "Lt's go\n",
      "let's go\n",
      "c:\\user\n",
      "How are \r\n",
      " you\n"
     ]
    }
   ],
   "source": [
    "s = \"Lt's go\"\n",
    "print(s)\n",
    "\n",
    "ss = 'let\\'s go'\n",
    "print(ss)\n",
    "\n",
    "# \\' =='\n",
    "#\\\\==\\\n",
    "sss =  \"c:\\\\user\"\n",
    "print(sss)\n",
    "\n",
    "# 回车换行符\n",
    "# windows: \\n\n",
    "# Linux: \\r\\n\n",
    "s1 = \"How are \\r\\n you\"\n",
    "print(s1)"
   ]
  },
  {
   "cell_type": "markdown",
   "metadata": {},
   "source": [
    "##2 字符串的格式化\n",
    "- %d 此处放入一个整数\n",
    "- %s 表示此处应该放入一个字符串"
   ]
  },
  {
   "cell_type": "code",
   "execution_count": 16,
   "metadata": {},
   "outputs": [
    {
     "name": "stdout",
     "output_type": "stream",
     "text": [
      "I love %s\n"
     ]
    }
   ],
   "source": [
    "s = \"I love %s\"\n",
    "print(s)"
   ]
  },
  {
   "cell_type": "code",
   "execution_count": 31,
   "metadata": {},
   "outputs": [
    {
     "name": "stdout",
     "output_type": "stream",
     "text": [
      "I love jingjing\n"
     ]
    }
   ],
   "source": [
    "print(\"I love %s\"%\"jingjing\")"
   ]
  },
  {
   "cell_type": "code",
   "execution_count": 29,
   "metadata": {},
   "outputs": [
    {
     "ename": "TypeError",
     "evalue": "%d format: a number is required, not str",
     "output_type": "error",
     "traceback": [
      "\u001b[1;31m---------------------------------------------------------------------------\u001b[0m",
      "\u001b[1;31mTypeError\u001b[0m                                 Traceback (most recent call last)",
      "\u001b[1;32m<ipython-input-29-02eed1241f11>\u001b[0m in \u001b[0;36m<module>\u001b[1;34m()\u001b[0m\n\u001b[1;32m----> 1\u001b[1;33m \u001b[0mprint\u001b[0m\u001b[1;33m(\u001b[0m \u001b[0ms\u001b[0m\u001b[1;33m%\u001b[0m\u001b[1;34m\"jingjing\"\u001b[0m\u001b[1;33m)\u001b[0m\u001b[1;33m\u001b[0m\u001b[0m\n\u001b[0m",
      "\u001b[1;31mTypeError\u001b[0m: %d format: a number is required, not str"
     ]
    }
   ],
   "source": [
    "print( s%\"jingjing\")"
   ]
  },
  {
   "cell_type": "code",
   "execution_count": 33,
   "metadata": {},
   "outputs": [
    {
     "name": "stdout",
     "output_type": "stream",
     "text": [
      "I am %d years old\n",
      "I am 32 years old\n"
     ]
    }
   ],
   "source": [
    "s = \"I am %d years old\"\n",
    "print(s)\n",
    "print(s%32)"
   ]
  },
  {
   "cell_type": "code",
   "execution_count": 35,
   "metadata": {},
   "outputs": [
    {
     "name": "stdout",
     "output_type": "stream",
     "text": [
      "I am %s,I am %d years old\n",
      "I am Lixin,I am 32 years old\n"
     ]
    }
   ],
   "source": [
    "s = \"I am %s,I am %d years old\"\n",
    "print(s)\n",
    "print(s%(\"Lixin\",32))"
   ]
  },
  {
   "cell_type": "markdown",
   "metadata": {},
   "source": [
    "- format函数格式化字符串\n",
    "    -在使用上，以｛｝和：代替%号，后面用format 带参数完成"
   ]
  },
  {
   "cell_type": "code",
   "execution_count": 37,
   "metadata": {},
   "outputs": [
    {
     "name": "stdout",
     "output_type": "stream",
     "text": [
      "I love jingjing\n",
      "Yes, I am 32 years old, I love jingjing and I am 32 years old\n"
     ]
    }
   ],
   "source": [
    "s = \"I love {}\".format(\"jingjing\")\n",
    "print(s)\n",
    "\n",
    "s = \"Yes, I am {1} years old, I love {0} and I am {1} years old\".format(\"jingjing\",32)\n",
    "print(s)"
   ]
  },
  {
   "cell_type": "markdown",
   "metadata": {},
   "source": [
    "- None 表示什么都没有，如果函数没有返回值，可以返None，用来占位置"
   ]
  },
  {
   "cell_type": "markdown",
   "metadata": {},
   "source": [
    "- 表达式：由一个或几个数字或者变量和运算符组合成的一行代码"
   ]
  },
  {
   "cell_type": "markdown",
   "metadata": {},
   "source": [
    "##3 运算符\n",
    "\n",
    "    - 算数运算符\n",
    "    \n",
    "- +,_跟正常 运算一样\n",
    "- 乘号*\n",
    "- 除号用/\n",
    "- % 取余\n",
    "- %只会得到余数\n",
    "\n",
    "- //表示取商运算，也叫地板除\n",
    "- **表是幂运算"
   ]
  },
  {
   "cell_type": "code",
   "execution_count": 7,
   "metadata": {},
   "outputs": [
    {
     "name": "stdout",
     "output_type": "stream",
     "text": [
      "13\n",
      "12\n",
      "2.6666666666666665\n",
      "2\n",
      "2\n",
      "243\n"
     ]
    }
   ],
   "source": [
    "a = 9+6-2\n",
    "print(a)\n",
    "\n",
    "a = 6*2\n",
    "print(a)\n",
    "\n",
    "a = 8/3\n",
    "print(a)\n",
    "\n",
    "a = 8%3\n",
    "print(a)\n",
    "\n",
    "a = 8//3\n",
    "print(a)\n",
    "\n",
    "a = 3 ** 5 #表示3的5次方，或5个3相乘5  3*3*3*3*3=243\n",
    "print(a)"
   ]
  },
  {
   "cell_type": "markdown",
   "metadata": {},
   "source": [
    "     - 比较运算符\n",
    "  \n",
    "- 结果是布尔值 True/False"
   ]
  },
  {
   "cell_type": "code",
   "execution_count": 11,
   "metadata": {},
   "outputs": [
    {
     "name": "stdout",
     "output_type": "stream",
     "text": [
      "False\n",
      "True\n"
     ]
    }
   ],
   "source": [
    "# == ，等于号\n",
    "a = 3 ** 4\n",
    "# 下面语句执行顺序是\n",
    "# 1， 计算 a == 80\n",
    "# 2,  把结果放入b中\n",
    "b = a == 80\n",
    "print(b)\n",
    "\n",
    "# != 不等于\n",
    "print(9 != 8)\n",
    "\n",
    "# > 大于\n",
    "# < 小于\n",
    "# >= 大于等于\n",
    "# <= 小于等于\n"
   ]
  },
  {
   "cell_type": "markdown",
   "metadata": {},
   "source": [
    "    - 赋值运算符\n"
   ]
  },
  {
   "cell_type": "code",
   "execution_count": 12,
   "metadata": {},
   "outputs": [
    {
     "name": "stdout",
     "output_type": "stream",
     "text": [
      "7\n"
     ]
    }
   ],
   "source": [
    "# = 赋值\n",
    "a = 0\n",
    "a += 7 # a = a + 7 的缩写\n",
    "print(a)\n",
    "\n",
    "# 所有数学运算符都有缩写形式\n",
    "# -=， *=, /=, //=, **=,都是缩写形式"
   ]
  },
  {
   "cell_type": "markdown",
   "metadata": {},
   "source": [
    "    - 逻辑运算符\n",
    "\n",
    "- 对布尔值进行计算的符号\n",
    "- and 逻辑与\n",
    "- or 逻辑或\n",
    "- not 逻辑非\n",
    "- 运算规则：\n",
    "    - and 当乘法， or当加法\n",
    "    - True当1，False当0    最后结果是0则为False，否则为True\n",
    "    "
   ]
  },
  {
   "cell_type": "code",
   "execution_count": 15,
   "metadata": {},
   "outputs": [
    {
     "name": "stdout",
     "output_type": "stream",
     "text": [
      "True\n"
     ]
    }
   ],
   "source": [
    " # 逻辑运算\n",
    "a = True\n",
    "b = False\n",
    "c = True\n",
    "d = a and b or c\n",
    "print(d)\n",
    "\n",
    "# 逻辑运算有时会出现短路问题，在一个表达式中，在前段有了结果，就不在计算后面的数据了，伪代码\n"
   ]
  },
  {
   "cell_type": "markdown",
   "metadata": {},
   "source": [
    "    - 成员运算\n",
    "- 用来检测某一个变量是否是另一个变量的成员 \n",
    "- in \n",
    "- not in \n"
   ]
  },
  {
   "cell_type": "code",
   "execution_count": 18,
   "metadata": {},
   "outputs": [
    {
     "name": "stdout",
     "output_type": "stream",
     "text": [
      "False\n",
      "True\n",
      "False\n"
     ]
    }
   ],
   "source": [
    "l = [1,2,3,4,5]\n",
    "a = 8\n",
    "\n",
    "b = a in l\n",
    "print(b)\n",
    "\n",
    "a = 4\n",
    "print(a in l)\n",
    "print(a not in l)\n"
   ]
  },
  {
   "cell_type": "markdown",
   "metadata": {},
   "source": [
    "    - 身份运算\n",
    "- is:有来检测两个变量是否是同一个变量\n",
    "    - var1 = var2\n",
    "- is not:两个变量不是同一个变量"
   ]
  },
  {
   "cell_type": "code",
   "execution_count": 19,
   "metadata": {},
   "outputs": [
    {
     "name": "stdout",
     "output_type": "stream",
     "text": [
      "True\n",
      "False\n"
     ]
    }
   ],
   "source": [
    "a = 8\n",
    "b = 8\n",
    "print(a is b)\n",
    "print(a is not b)"
   ]
  },
  {
   "cell_type": "markdown",
   "metadata": {},
   "source": [
    "- 运算符的优先级问题\n",
    "    - 括号具有最高优先级\n",
    "    \n",
    "    ** 幂运算\n",
    "    \n",
    "    ~ + -  补，一元加号和减号(方法名的最后两个 +@ 和 -@)\n",
    "    \n",
    "    * / % // 乘，除，模运算和地板除\n",
    "    \n",
    "    + -\t 加法和减法\n",
    "    \n",
    "    >><< 左，右按位移动\n",
    "    \n",
    "    &  位元“与”\n",
    "    \n",
    "    ^ |\t按位'异或'和常规 '或'\n",
    "    \n",
    "    <= < > >=\t比较运算符\n",
    "    \n",
    "    <> == !=\t操作符相等比较\n",
    "    \n",
    "    = %= /= //= -= += *= **=赋值运算符\n",
    "    \n",
    "    is is not\t标识操作符\n",
    "    \n",
    "    in not in\t成员操作符\n",
    "    \n",
    "    not or and\t逻辑运算符\n",
    "    "
   ]
  },
  {
   "cell_type": "markdown",
   "metadata": {},
   "source": [
    "# 程序结构\n",
    "- 顺序\n",
    "- 分支\n",
    "- 循环"
   ]
  },
  {
   "cell_type": "code",
   "execution_count": null,
   "metadata": {},
   "outputs": [],
   "source": []
  }
 ],
 "metadata": {
  "kernelspec": {
   "display_name": "Python 3",
   "language": "python",
   "name": "python3"
  },
  "language_info": {
   "codemirror_mode": {
    "name": "ipython",
    "version": 3
   },
   "file_extension": ".py",
   "mimetype": "text/x-python",
   "name": "python",
   "nbconvert_exporter": "python",
   "pygments_lexer": "ipython3",
   "version": "3.6.5"
  }
 },
 "nbformat": 4,
 "nbformat_minor": 2
}
