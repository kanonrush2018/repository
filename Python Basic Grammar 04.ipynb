{
 "cells": [
  {
   "cell_type": "markdown",
   "metadata": {},
   "source": [
    "##1 while循环\n",
    "- 不知循环次数，但能确定循环条件的时候，用while循环\n",
    "    \n",
    "    while 条件表达式\n",
    "        语句块\n",
    "        "
   ]
  },
  {
   "cell_type": "code",
   "execution_count": 4,
   "metadata": {},
   "outputs": [
    {
     "name": "stdout",
     "output_type": "stream",
     "text": [
      "第1年得到10670.0块钱\n",
      "第2年得到11384.89块钱\n",
      "第3年得到12147.67763块钱\n",
      "第4年得到12961.57203121块钱\n",
      "第5年得到13829.99735730107块钱\n",
      "第6年得到14756.607180240242块钱\n",
      "第7年得到15745.299861316338块钱\n",
      "第8年得到16800.234952024533块钱\n",
      "第9年得到17925.85069381018块钱\n",
      "第10年得到19126.88269029546块钱\n",
      "第11年得到20408.383830545255块钱\n"
     ]
    }
   ],
   "source": [
    "# 如果年利率是6.7%，本利是每年翻滚，则多少年后本钱翻倍\n",
    "\n",
    "benqian = 10000\n",
    "year = 0\n",
    "while benqian < 20000:\n",
    "    benqian = benqian + benqian * 0.067\n",
    "    year += 1 # year = year + 1\n",
    "    print(\"第{0}年得到{1}块钱\".format(year,benqian))"
   ]
  },
  {
   "cell_type": "code",
   "execution_count": 12,
   "metadata": {},
   "outputs": [
    {
     "name": "stdout",
     "output_type": "stream",
     "text": [
      "第1年得1到10670.0块钱\n",
      "第2年得2到11384.89块钱\n",
      "第3年得3到12147.67763块钱\n",
      "第4年得4到12961.57203121块钱\n",
      "第5年得5到13829.99735730107块钱\n",
      "第6年得6到14756.607180240242块钱\n",
      "第7年得7到15745.299861316338块钱\n",
      "第8年得8到16800.234952024533块钱\n",
      "第9年得9到17925.85069381018块钱\n",
      "第10年得10到19126.88269029546块钱\n",
      "第11年得11到20408.383830545255块钱\n",
      "你母终于翻倍了，10年啊，我等到头发都没了\n"
     ]
    }
   ],
   "source": [
    "# 如果年利率是6.7%，本利是每年翻滚，则多少年后本钱翻倍\n",
    "# 如果钱翻倍了，则用print庆祝一下\n",
    "\n",
    "benqian = 10000\n",
    "year = 0\n",
    "while benqian < 20000:\n",
    "    benqian = benqian + benqian * 0.067\n",
    "    year += 1 # year = year + 1\n",
    "    print(\"第{0}年得{0}到{1}块钱\".format(year,benqian))# 多加个0验证format函数\n",
    "else:\n",
    "    print(\"你母终于翻倍了，10年啊，我等到头发都没了\")"
   ]
  },
  {
   "cell_type": "markdown",
   "metadata": {},
   "source": [
    "# 函数\n",
    "- 代码的一种组织形式\n",
    "- 一个函数一般完成一项特定的功能\n",
    "- 函数的使用\n",
    "    - 函数需要先定义\n",
    "    - 使用函数，俗称调用\n"
   ]
  },
  {
   "cell_type": "markdown",
   "metadata": {},
   "source": [
    "##2 定义函数"
   ]
  },
  {
   "cell_type": "code",
   "execution_count": 10,
   "metadata": {},
   "outputs": [],
   "source": [
    "# 定义一个函数\n",
    "# 只是定义的话不会执行\n",
    "# 1.def关键字，后跟一个空格\n",
    "# 2.函数名，自己定义，起名需要遵循命名规则，约定俗成，在驼峰命名只给类用\n",
    "# 3.后面括号和冒号不能省，括号内可以有参数\n",
    "# 4.函数内所有代码都要缩进\n",
    "\n",
    "def func():\n",
    "    print(\"我是一个函数\")\n",
    "    print(\"我要完成一定的功能\")\n",
    "    print(\"我结束了\")"
   ]
  },
  {
   "cell_type": "code",
   "execution_count": 7,
   "metadata": {},
   "outputs": [
    {
     "name": "stdout",
     "output_type": "stream",
     "text": [
      "我是一个函数\n",
      "我要完成一定的功能\n",
      "我结束了\n"
     ]
    }
   ],
   "source": [
    "# 函数的调用\n",
    "func()"
   ]
  },
  {
   "cell_type": "markdown",
   "metadata": {},
   "source": [
    "## 函数的参数和返回值\n",
    "- 参数：负责给函数传递一些必要的数据或者信息\n",
    "    - 形参（开式参数）：在函数定义的时候用到的参数没有具体值，只是一个占位符号，成为形参\n",
    "    - 实参（实际参数）：在调用函数的时候输入的值\n",
    "- 返回值：函数的执行结果\n",
    "    - 使用return关键字\n",
    "    - 如果没有return，默认返回一个None\n",
    "    - 函数一旦执行return语句，则无条件返回，即结束函数的执行\n",
    "    "
   ]
  },
  {
   "cell_type": "code",
   "execution_count": 14,
   "metadata": {},
   "outputs": [
    {
     "name": "stdout",
     "output_type": "stream",
     "text": [
      "beautiful girl,你怎么了\n",
      "Sir,你不说话我就走了\n"
     ]
    }
   ],
   "source": [
    "# 参数的定义和使用\n",
    "# 参数person 只是一个符号，代表的是调用的时的某一数据\n",
    "# 调用时，会用ｗ的值代替函数中所有的person\n",
    "\n",
    "def hello(person):\n",
    "    print(\"{0},你怎么了\".format(person))\n",
    "    print(\"Sir,你不说话我就走了\")\n",
    "    \n",
    "w = \"beautiful girl\"\n",
    "hello(w)"
   ]
  },
  {
   "cell_type": "code",
   "execution_count": 18,
   "metadata": {},
   "outputs": [
    {
     "name": "stdout",
     "output_type": "stream",
     "text": [
      "beautiful girl,你怎么了\n",
      "Sir,你不说话我就走了\n",
      "我跟beautiful girl说话，但是beautiful girl不理我\n"
     ]
    }
   ],
   "source": [
    "# return语句的基本使用\n",
    "# 函数说话后返回一句话\n",
    "def hello(person):\n",
    "    print(\"{0},你怎么了\".format(person))\n",
    "    print(\"Sir,你不说话我就走了\")\n",
    "    \n",
    "    return \"我跟{0}说话，但是{1}不理我\".format(person,person)\n",
    "w = \"beautiful girl\"\n",
    "rst = hello(w)\n",
    "print(rst)\n"
   ]
  },
  {
   "cell_type": "code",
   "execution_count": 21,
   "metadata": {},
   "outputs": [
    {
     "name": "stdout",
     "output_type": "stream",
     "text": [
      "beautiful girl,你怎么了\n",
      "哈哈，我提前结束了\n"
     ]
    }
   ],
   "source": [
    "# return案例2\n",
    "def hello(person):\n",
    "    print(\"{0},你怎么了\".format(person))\n",
    "    return\"哈哈，我提前结束了\"\n",
    "    print(\"Sir,你不说话我就走了\")\n",
    "    \n",
    "    return \"我跟{0}说话，但是{1}不理我\".format(person,person)\n",
    "w = \"beautiful girl\"\n",
    "rst = hello(w)\n",
    "print(rst)"
   ]
  },
  {
   "cell_type": "markdown",
   "metadata": {},
   "source": [
    "##3 查自建函数信息"
   ]
  },
  {
   "cell_type": "code",
   "execution_count": 1,
   "metadata": {},
   "outputs": [
    {
     "name": "stdout",
     "output_type": "stream",
     "text": [
      "Help on built-in function print in module builtins:\n",
      "\n",
      "print(...)\n",
      "    print(value, ..., sep=' ', end='\\n', file=sys.stdout, flush=False)\n",
      "    \n",
      "    Prints the values to a stream, or to sys.stdout by default.\n",
      "    Optional keyword arguments:\n",
      "    file:  a file-like object (stream); defaults to the current sys.stdout.\n",
      "    sep:   string inserted between values, default a space.\n",
      "    end:   string appended after the last value, default a newline.\n",
      "    flush: whether to forcibly flush the stream.\n",
      "\n"
     ]
    }
   ],
   "source": [
    "# 查找函数帮助文档\n",
    "# 用help函数\n",
    "help(print)"
   ]
  },
  {
   "cell_type": "markdown",
   "metadata": {},
   "source": [
    "##4 乘法表 案例一"
   ]
  },
  {
   "cell_type": "code",
   "execution_count": 11,
   "metadata": {},
   "outputs": [
    {
     "name": "stdout",
     "output_type": "stream",
     "text": [
      "1 -----------------\n",
      "2 4 -----------------\n",
      "3 6 9 -----------------\n",
      "4 8 12 16 -----------------\n",
      "5 10 15 20 25 -----------------\n",
      "6 12 18 24 30 36 -----------------\n",
      "7 14 21 28 35 42 49 -----------------\n",
      "8 16 24 32 40 48 56 64 -----------------\n",
      "9 18 27 36 45 54 63 72 81 -----------------\n"
     ]
    }
   ],
   "source": [
    "for row in range(1,10):\n",
    "    # 打印一行\n",
    "    for col in range(1,row+1):\n",
    "        #print函数默认任务打印完毕后换行\n",
    "        print(row * col, end=\" \")\n",
    "    print(\"-----------------\")"
   ]
  },
  {
   "cell_type": "code",
   "execution_count": 26,
   "metadata": {},
   "outputs": [
    {
     "name": "stdout",
     "output_type": "stream",
     "text": [
      "1 \n",
      "2 4 \n",
      "3 6 9 \n",
      "4 8 12 16 \n",
      "5 10 15 20 25 \n",
      "6 12 18 24 30 36 \n",
      "7 14 21 28 35 42 49 \n",
      "8 16 24 32 40 48 56 64 \n",
      "9 18 27 36 45 54 63 72 81 \n"
     ]
    }
   ],
   "source": [
    "# 定义一个函数，打印一行乘法表\n",
    "def printLine(row):\n",
    "    for col in range(1,row+1):\n",
    "        #print函数默认任务打印完毕后换行\n",
    "        print(row * col, end=\" \")\n",
    "    print(\"\")\n",
    "    \n",
    "# 乘法表\n",
    "# version 2.0\n",
    "for row in range (1,10):\n",
    "    pass  # 自己加的\n",
    "    printLine(row)\n",
    "    "
   ]
  },
  {
   "cell_type": "code",
   "execution_count": null,
   "metadata": {},
   "outputs": [],
   "source": [
    "## 参考资料\n",
    "- python参考资料： headfirst python -> 零基础入门学习python（小甲鱼),本讲义参考的是流畅的python-->习题-->后期可以考虑腾讯公开免费课\n",
    "- 参考资料：(https://www.cnblogs.com/bingabcd/p/6671368.html)\n"
   ]
  },
  {
   "cell_type": "code",
   "execution_count": null,
   "metadata": {},
   "outputs": [],
   "source": []
  },
  {
   "cell_type": "code",
   "execution_count": null,
   "metadata": {},
   "outputs": [],
   "source": []
  },
  {
   "cell_type": "code",
   "execution_count": null,
   "metadata": {},
   "outputs": [],
   "source": []
  },
  {
   "cell_type": "code",
   "execution_count": null,
   "metadata": {},
   "outputs": [],
   "source": []
  },
  {
   "cell_type": "code",
   "execution_count": null,
   "metadata": {},
   "outputs": [],
   "source": []
  },
  {
   "cell_type": "code",
   "execution_count": null,
   "metadata": {},
   "outputs": [],
   "source": []
  }
 ],
 "metadata": {
  "kernelspec": {
   "display_name": "Python 3",
   "language": "python",
   "name": "python3"
  },
  "language_info": {
   "codemirror_mode": {
    "name": "ipython",
    "version": 3
   },
   "file_extension": ".py",
   "mimetype": "text/x-python",
   "name": "python",
   "nbconvert_exporter": "python",
   "pygments_lexer": "ipython3",
   "version": "3.6.5"
  }
 },
 "nbformat": 4,
 "nbformat_minor": 2
}
