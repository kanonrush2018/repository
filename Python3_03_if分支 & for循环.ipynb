{
 "cells": [
  {
   "cell_type": "markdown",
   "metadata": {},
   "source": [
    "##1 分支\n",
    "    - if 条件表达式：\n",
    "        - 语句1\n",
    "        - 语句2\n",
    "        - 语句3\n",
    "        ……\n",
    "- if后面的语句如属于if语句块则必为同一缩进等级\n",
    "- 条件表达式的结果为True执行if后面的缩进语句块\n"
   ]
  },
  {
   "cell_type": "code",
   "execution_count": 4,
   "metadata": {},
   "outputs": [
    {
     "name": "stdout",
     "output_type": "stream",
     "text": [
      "一起玩\n"
     ]
    }
   ],
   "source": [
    "age = 19\n",
    "if age < 18:\n",
    "    print(\"滚球\")\n",
    "    \n",
    "print(\"一起玩\")"
   ]
  },
  {
   "cell_type": "markdown",
   "metadata": {},
   "source": [
    "- 双向分支\n",
    "    - if...else...语句\n",
    "        -if 条件表达式\n",
    "            语句1\n",
    "            语句2\n",
    "            ...\n",
    "        -else:\n",
    "            语句1\n",
    "            语句2\n",
    "            语句3\n",
    "            ...\n",
    "            \n",
    "- 只执行if 或else中的一个\n",
    "- if 和 else有同一等级\n",
    "\n"
   ]
  },
  {
   "cell_type": "code",
   "execution_count": 11,
   "metadata": {},
   "outputs": [
    {
     "name": "stdout",
     "output_type": "stream",
     "text": [
      "我不喜欢男的，滚球吧\n"
     ]
    }
   ],
   "source": [
    "\n",
    "gender = \"男\"\n",
    "if gender == \"女\":\n",
    "    print(\"吃糖\")\n",
    "    \n",
    "else:\n",
    "    print(\"我不喜欢男的，滚球吧\")"
   ]
  },
  {
   "cell_type": "markdown",
   "metadata": {},
   "source": [
    "##2 input 的作用是：\n",
    "    - 在屏幕上输出括号内的字符串\n",
    "    - 接收用户输入的内容并返回程序\n",
    "    - input 返回的内容一定是字符串\n",
    "    "
   ]
  },
  {
   "cell_type": "code",
   "execution_count": 17,
   "metadata": {},
   "outputs": [
    {
     "name": "stdout",
     "output_type": "stream",
     "text": [
      "请输入性别：女\n",
      "性别为：女\n",
      "我们结婚吧\n",
      "请问，民政局怎么走？\n"
     ]
    }
   ],
   "source": [
    "gender = input(\"请输入性别：\")\n",
    "print(\"性别为：{0}\".format(gender))\n",
    "\n",
    "if gender == \"男\":\n",
    "    print(\"滚球吧\")\n",
    "else:\n",
    "    print(\"我们结婚吧\")\n",
    "    \n",
    "print(\"请问，民政局怎么走？\")"
   ]
  },
  {
   "cell_type": "code",
   "execution_count": 16,
   "metadata": {},
   "outputs": [
    {
     "name": "stdout",
     "output_type": "stream",
     "text": [
      "请输入性别：男\n",
      "您输入的性别是：男\n",
      "滚球吧\n",
      "请问，民政局怎么走？\n"
     ]
    }
   ],
   "source": [
    "gender = input(\"请输入性别：\")\n",
    "print(\"您输入的性别是：{0}\".format(gender))\n",
    "\n",
    "if gender == \"男\":\n",
    "    print(\"滚球吧\")\n",
    "else:\n",
    "    print(\"我们结婚吧\")\n",
    "    \n",
    "print(\"请问，民政局怎么走？\")"
   ]
  },
  {
   "cell_type": "markdown",
   "metadata": {},
   "source": [
    "- 多向分支"
   ]
  },
  {
   "cell_type": "code",
   "execution_count": 15,
   "metadata": {},
   "outputs": [
    {
     "name": "stdout",
     "output_type": "stream",
     "text": [
      "学生成绩：89\n",
      "分值为:B\n"
     ]
    }
   ],
   "source": [
    "# score 存放学生成绩\n",
    "# 注意input 的返回值类型\n",
    "score = input(\"学生成绩：\")\n",
    "# 需要把str 转换成 int\n",
    "score = int(score)\n",
    "\n",
    "if score >= 90 and score <=100:\n",
    "    print(\"分值为:A\")\n",
    "if score >= 80 and score < 90:\n",
    "    print(\"分值为:B\")\n",
    "if score >= 70 and score < 80:\n",
    "    print(\"分值为:C\")\n",
    "if score >= 60 and score < 70:\n",
    "    print(\"分值为:D\")\n",
    "if score < 60:\n",
    "    print(\"分值为:Fail\")"
   ]
  },
  {
   "cell_type": "code",
   "execution_count": 16,
   "metadata": {},
   "outputs": [
    {
     "name": "stdout",
     "output_type": "stream",
     "text": [
      "请输入学生成绩：4563478\n",
      "B\n"
     ]
    }
   ],
   "source": [
    "# score 存放学生成绩\n",
    "# 注意input 的返回值类型\n",
    "score = input(\"请输入学生成绩：\")\n",
    "# 需要把str 转换成 int\n",
    "score = int(score)\n",
    "\n",
    "if score >= 90 and score <=100:\n",
    "    print(\"A\")\n",
    "elif score >= 80:\n",
    "    print(\"B\")\n",
    "elif score >= 70:\n",
    "    print(\"C\")\n",
    "elif score >= 60:\n",
    "    print(\"D\")\n",
    "else:\n",
    "    print(\"Fail\")\n",
    "# elif 运行后我发现有个缺点，没有上格的程序严紧，12312分的时候，会输出B"
   ]
  },
  {
   "cell_type": "markdown",
   "metadata": {},
   "source": [
    "##3 for循环\n",
    "    - for循环\n",
    "        - for 变量 in 序列：\n",
    "            语句1\n",
    "            语句2\n",
    "            ...\n",
    "            "
   ]
  },
  {
   "cell_type": "code",
   "execution_count": 18,
   "metadata": {},
   "outputs": [
    {
     "name": "stdout",
     "output_type": "stream",
     "text": [
      "A\n",
      "B\n",
      "C\n",
      "D\n"
     ]
    }
   ],
   "source": [
    "# 列表就是一列数字或值，一般用中括号表示\n",
    "# 例如  [\"A\"，\"B\",\"C\",\"D\"]\n",
    "# 打印学生列表姓名ABCD\n",
    "for name in [\"A\",\"B\",\"C\",\"D\"]:\n",
    "    print(name)"
   ]
  },
  {
   "cell_type": "code",
   "execution_count": 20,
   "metadata": {},
   "outputs": [
    {
     "name": "stdout",
     "output_type": "stream",
     "text": [
      "A\n",
      "我的最爱A出现了\n",
      "B\n",
      "/////\n",
      "C\n",
      "/////\n",
      "D\n",
      "/////\n"
     ]
    }
   ],
   "source": [
    "# 列表就是一列数字或值，一般用中括号表示\n",
    "# 例如  [\"A\"，\"B\",\"C\",\"D\"]\n",
    "# 打印学生列表姓名ABCD\n",
    "for name in [\"A\",\"B\",\"C\",\"D\"]:\n",
    "    print(name)\n",
    "    if name ==\"A\":\n",
    "        print(\"我的最爱{0}出现了\".format(name))\n",
    "    else:\n",
    "        print(\"/////\")"
   ]
  },
  {
   "cell_type": "markdown",
   "metadata": {},
   "source": [
    "##4 range\n",
    "- 生成一个数字序列\n",
    "\n"
   ]
  },
  {
   "cell_type": "code",
   "execution_count": 21,
   "metadata": {},
   "outputs": [
    {
     "name": "stdout",
     "output_type": "stream",
     "text": [
      "1\n",
      "2\n",
      "3\n",
      "4\n",
      "5\n",
      "6\n",
      "7\n",
      "8\n",
      "9\n",
      "10\n"
     ]
    }
   ],
   "source": [
    "# 印1到 10的数字\n",
    "# ange 区间为【）左闭右开\n",
    "# randint   是特例，左右都包含在内\n",
    "for i in range(1,11):\n",
    "    print(i)"
   ]
  },
  {
   "cell_type": "markdown",
   "metadata": {},
   "source": [
    "## for-else语句\n",
    "- 当for循环结束的时候，会执行else语句\n",
    "- else语句是可选语句\n"
   ]
  },
  {
   "cell_type": "code",
   "execution_count": 22,
   "metadata": {},
   "outputs": [
    {
     "name": "stdout",
     "output_type": "stream",
     "text": [
      "A\n",
      "我的最爱A出现了\n",
      "B\n",
      "/////\n",
      "C\n",
      "/////\n",
      "D\n",
      "/////\n",
      "if语句执行完后，就会执行for循环里else语句\n"
     ]
    }
   ],
   "source": [
    "# for -else 语句\n",
    "# 列表就是一列数字或值，一般用中括号表示\n",
    "# 例如  [\"A\"，\"B\",\"C\",\"D\"]\n",
    "# 打印学生列表姓名ABCD\n",
    "for name in [\"A\",\"B\",\"C\",\"D\"]:\n",
    "    print(name)\n",
    "    if name ==\"A\":\n",
    "        print(\"我的最爱{0}出现了\".format(name))\n",
    "    else:\n",
    "        print(\"/////\")\n",
    "        \n",
    "else:\n",
    "    print(\"if语句执行完后，就会执行for循环里else语句\")"
   ]
  },
  {
   "cell_type": "markdown",
   "metadata": {},
   "source": [
    "##5 循环（break,continue,pass）\n",
    "- break:无条件结束整个循环\n",
    "- continue:无条件结束本次循环，重新进入下一轮循环\n",
    "- pass:表示占位"
   ]
  },
  {
   "cell_type": "code",
   "execution_count": 31,
   "metadata": {},
   "outputs": [
    {
     "name": "stdout",
     "output_type": "stream",
     "text": [
      "1\n",
      "2\n",
      "3\n",
      "4\n",
      "5\n",
      "6\n",
      "就是这个数字\n"
     ]
    }
   ],
   "source": [
    "# 在数字中找7\n",
    "# for 循环中的变量表示，一般用i, k, m, n 或indx,idx ,item等\n",
    "# 在python中，如果循环变量名不重要，可以用下划线 _ 代替\n",
    "\n",
    "for i in range(1,11):\n",
    "    if i == 7:\n",
    "        print(\"就是这个数字\")\n",
    "        break\n",
    "    else:\n",
    "        print(i)\n",
    "  \n"
   ]
  },
  {
   "cell_type": "code",
   "execution_count": 34,
   "metadata": {},
   "outputs": [
    {
     "name": "stdout",
     "output_type": "stream",
     "text": [
      "2是偶数\n",
      "4是偶数\n",
      "6是偶数\n",
      "8是偶数\n",
      "10是偶数\n"
     ]
    }
   ],
   "source": [
    "# 在数字1-10中找偶数，然后打印\n",
    "# for 循环中的变量表示，一般用i, k, m, n 或indx,idx ,item等\n",
    "# 在python中，如果循环变量名不重要，可以用下划线 _ 代替\n",
    "\n",
    "for i in range(1,11):\n",
    "    if i % 2 == 1:\n",
    "        continue\n",
    "    else:\n",
    "        print(\"{0}是偶数\".format(i))"
   ]
  },
  {
   "cell_type": "code",
   "execution_count": 35,
   "metadata": {},
   "outputs": [
    {
     "name": "stdout",
     "output_type": "stream",
     "text": [
      "2是偶数\n",
      "4是偶数\n",
      "6是偶数\n",
      "8是偶数\n",
      "10是偶数\n"
     ]
    }
   ],
   "source": [
    "for i in range(1,11):\n",
    "    if i % 2 == 0:\n",
    "        print(\"{0}是偶数\".format(i))"
   ]
  },
  {
   "cell_type": "code",
   "execution_count": 38,
   "metadata": {},
   "outputs": [
    {
     "name": "stdout",
     "output_type": "stream",
     "text": [
      "2是偶数\n",
      "4是偶数\n",
      "6是偶数\n",
      "8是偶数\n",
      "10是偶数\n"
     ]
    }
   ],
   "source": [
    "for i in range(1,11):\n",
    "    if i % 2 == 1:\n",
    "        continue\n",
    "    print(\"{0}是偶数\".format(i))"
   ]
  },
  {
   "cell_type": "code",
   "execution_count": null,
   "metadata": {},
   "outputs": [],
   "source": []
  }
 ],
 "metadata": {
  "kernelspec": {
   "display_name": "Python 3",
   "language": "python",
   "name": "python3"
  },
  "language_info": {
   "codemirror_mode": {
    "name": "ipython",
    "version": 3
   },
   "file_extension": ".py",
   "mimetype": "text/x-python",
   "name": "python",
   "nbconvert_exporter": "python",
   "pygments_lexer": "ipython3",
   "version": "3.6.5"
  }
 },
 "nbformat": 4,
 "nbformat_minor": 2
}
